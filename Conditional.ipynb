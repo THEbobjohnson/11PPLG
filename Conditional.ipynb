{
  "nbformat": 4,
  "nbformat_minor": 0,
  "metadata": {
    "colab": {
      "provenance": [],
      "authorship_tag": "ABX9TyPQvwo3vBGlUkUDBoKEkpbN",
      "include_colab_link": true
    },
    "kernelspec": {
      "name": "python3",
      "display_name": "Python 3"
    },
    "language_info": {
      "name": "python"
    }
  },
  "cells": [
    {
      "cell_type": "markdown",
      "metadata": {
        "id": "view-in-github",
        "colab_type": "text"
      },
      "source": [
        "<a href=\"https://colab.research.google.com/github/THEbobjohnson/11PPLG/blob/main/Conditional.ipynb\" target=\"_parent\"><img src=\"https://colab.research.google.com/assets/colab-badge.svg\" alt=\"Open In Colab\"/></a>"
      ]
    },
    {
      "cell_type": "markdown",
      "source": [
        "# Conditional Statement\n",
        "\n",
        "Kalimat untuk mengecek apakah suatu kondisi bernilai True atau False. Dengan Operator Perbandingan serta Logika, serta kode if, elif, dan else, bisa menjalankan kode yang berbeda.\n",
        "\n",
        "\n",
        "---\n",
        "\n",
        "\n",
        "Contoh Pertama:\n",
        "\n",
        "Tiga kondisi, If, Elif, dan Else.\n",
        "Hanya kode dalam Elif yang akan dibaca.\n",
        "```\n",
        "angka = 5\n",
        "if angka == 10:\n",
        "  print(\"angka adalah 10\")\n",
        "elif angka < 10:\n",
        "  print(\"angka kurang dari 10\")\n",
        "else:\n",
        "  print(\"angka lebih dari 10\")\n",
        "```\n",
        "Contoh Kedua:\n",
        "\n",
        "Langsung mendeklarasikan True dan False dalam Variable Boolean. Karena Variable yang dicek bersifat False, kode yang dikerjakan adalah bagian dalam Else.\n",
        "\n",
        "```\n",
        "initrue = False\n",
        "if initrue:\n",
        "  print(\"Variable True\")\n",
        "else:\n",
        "  print(\"Variable False\")\n",
        "```\n",
        "\n",
        "Contoh Ketiga:\n",
        "\n",
        "Menggunakan If untuk mengecek apakah sebuah variable bernilai sesuatu sebelum terkena error. Jika Variable dikosongkan, angkan termasuk bernilai None, dan kondisi If akan gagal, menjalankan kode yang di dalam Else. Jika Variable tidak dikosongkan, maka If akan berjalan seperti biasa.\n",
        "\n",
        "```\n",
        "jangankosongkan = input()\n",
        "if jangankosongkan:\n",
        "  print(1+int(jangankosongkan))\n",
        "else:\n",
        "  print(\"Jangan Kosongkan!!\")\n",
        "```\n",
        "\n",
        "Contoh Keempat:\n",
        "\n",
        "Menggunakan If dan If Else dalam satu baris, cara pembacaannya adalah, Melakukan kode sebelum If jika kondisi if berhasil, dan Melakukan kode setelah Else jika kondisi if tidak berhasil. Kode yang akan dijalan adalah print yang berada sebelum statement If kedua.\n",
        "\n",
        "```\n",
        "a = 20\n",
        "b = 30\n",
        "\n",
        "if a > b: print(\"A lebih besar dari B\")\n",
        "print(\"A kurang dari B\") if a < b else print(\"A sama dengan B\")\n",
        "```"
      ],
      "metadata": {
        "id": "Kvu7_BGsY5Ut"
      }
    },
    {
      "cell_type": "code",
      "execution_count": 8,
      "metadata": {
        "colab": {
          "base_uri": "https://localhost:8080/"
        },
        "id": "plCkjAGaYdQL",
        "outputId": "1ff5a249-51e6-4c34-f913-0f05403023f5"
      },
      "outputs": [
        {
          "output_type": "stream",
          "name": "stdout",
          "text": [
            "angka kurang dari 10\n",
            "Variable False\n",
            "\n",
            "Jangan Kosongkan!!\n",
            "A kurang dari B\n"
          ]
        }
      ],
      "source": [
        "#Contoh 1: Operator Perbandingan dan Logika\n",
        "angka = 5\n",
        "if angka == 10 or angka == 20:\n",
        "  print(\"angka adalah 10 atau 20\")\n",
        "elif angka < 10:\n",
        "  print(\"angka kurang dari 10\")\n",
        "else:\n",
        "  print(\"angka lebih dari 10\")\n",
        "#Contoh 2: Boolean\n",
        "initrue = False\n",
        "if initrue:\n",
        "  print(\"Variable True\")\n",
        "else:\n",
        "  print(\"Variable False\")\n",
        "#Contoh 3: Kosong\n",
        "jangankosongkan = input()\n",
        "if jangankosongkan:\n",
        "  print(1+int(jangankosongkan))\n",
        "else:\n",
        "  print(\"Jangan Kosongkan!!\")\n",
        "#Contoh 4: Satu Baris\n",
        "a = 20\n",
        "b = 30\n",
        "if a > b: print(\"A lebih besar dari B\")\n",
        "print(\"A kurang dari B\") if a < b else print(\"A sama dengan B\")"
      ]
    }
  ]
}