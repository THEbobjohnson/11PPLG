{
  "nbformat": 4,
  "nbformat_minor": 0,
  "metadata": {
    "colab": {
      "provenance": [],
      "authorship_tag": "ABX9TyNC3AjAWA2sHyUaiQRoNiYh",
      "include_colab_link": true
    },
    "kernelspec": {
      "name": "python3",
      "display_name": "Python 3"
    },
    "language_info": {
      "name": "python"
    }
  },
  "cells": [
    {
      "cell_type": "markdown",
      "metadata": {
        "id": "view-in-github",
        "colab_type": "text"
      },
      "source": [
        "<a href=\"https://colab.research.google.com/github/THEbobjohnson/11PPLG/blob/main/Variable.ipynb\" target=\"_parent\"><img src=\"https://colab.research.google.com/assets/colab-badge.svg\" alt=\"Open In Colab\"/></a>"
      ]
    },
    {
      "cell_type": "markdown",
      "source": [
        "# Variable\n",
        "Sebuah nilai yang dapat berubah.\n",
        "\n",
        "Dalam Python, tipe data tidak perlu dideklarasikan.\n",
        "\n",
        "Contoh membuat dan memanggil variable adalah\n",
        "\n",
        "\n",
        "```\n",
        "laugh = \"mwahahahaha\"\n",
        "print(\"And after you crumbles, the world will soon follow!\", laugh)\n",
        "```\n",
        "\n",
        "Tipe data termasuk:\n",
        "*   Integer: Angka bulat (4)\n",
        "*   Float: Angka desimal (3.141592653589)\n",
        "*   String: Karakter, membutuhkan kutip (\"tes 123 reeeeee--\")\n",
        "*   Boolean: True atau False (True) (5+3 == 7)\n",
        "*   NoneType: Variable tidak bernilai (None)"
      ],
      "metadata": {
        "id": "5JIOEFNZ5RnX"
      }
    },
    {
      "cell_type": "code",
      "source": [
        "#Pembuatan variable\n",
        "Umur = 24\n",
        "Nilai = 92.6\n",
        "Nama = \"Bob Johnson\"\n",
        "Lulus = Nilai > 70\n",
        "print(Nama)\n",
        "type(Nama)\n",
        "print(Umur)\n",
        "type(Umur)\n",
        "print(Nilai)\n",
        "type(Nilai)\n",
        "print(Lulus)\n",
        "type(Lulus)"
      ],
      "metadata": {
        "colab": {
          "base_uri": "https://localhost:8080/"
        },
        "id": "6VEpH2fB67Nr",
        "outputId": "1fa8371b-2adc-45bf-9d94-61ced57db482"
      },
      "execution_count": null,
      "outputs": [
        {
          "output_type": "stream",
          "name": "stdout",
          "text": [
            "Bob Johnson\n",
            "24\n",
            "92.6\n",
            "True\n"
          ]
        }
      ]
    }
  ]
}