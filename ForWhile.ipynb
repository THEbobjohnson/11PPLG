{
  "nbformat": 4,
  "nbformat_minor": 0,
  "metadata": {
    "colab": {
      "provenance": [],
      "authorship_tag": "ABX9TyP2jKZGs3InmyIzoAbK1lTw",
      "include_colab_link": true
    },
    "kernelspec": {
      "name": "python3",
      "display_name": "Python 3"
    },
    "language_info": {
      "name": "python"
    }
  },
  "cells": [
    {
      "cell_type": "markdown",
      "metadata": {
        "id": "view-in-github",
        "colab_type": "text"
      },
      "source": [
        "<a href=\"https://colab.research.google.com/github/THEbobjohnson/11PPLG/blob/main/ForWhile.ipynb\" target=\"_parent\"><img src=\"https://colab.research.google.com/assets/colab-badge.svg\" alt=\"Open In Colab\"/></a>"
      ]
    },
    {
      "cell_type": "markdown",
      "source": [
        "# Iterator\n",
        "\n",
        "Iterator adalah kode yang akan diulang berkali kali dalam sebuah kondisi. Kedua kode dalam Iterator adalah For dan While. Seperti If, Elif, dan Else, For dan While membutuhkan sebuah kondisi dan mengindent semua kode yang didalamnya.\n",
        "\n",
        "# For\n",
        "\n",
        "Kode ini akan mengulang kode dalam sebuah kondisi. Kondisi yang berada dalam For sedikit berbeda, karena For menginginkan sebuah statement \"x in []\", dan menjalankan kode sebanyak [] kali sambil menghasilkan variable x yang berbeda setiap perulangan.\n",
        "\n",
        "Contoh:\n",
        "\n",
        "For akan mengulang kode biasa ini sebanyak 3 kali, tanpa perubahan.\n",
        "```\n",
        "for i in range(3):\n",
        "  print(\"Halo!\")\n",
        "```\n",
        "\n",
        "Sekarang, kita akan menggunakan i untuk mengubah kode yang dijalankan setiap perubahan, Output yang didapatkan adalah: \"Halo Teman #1\", \"Halo Teman #2\", \"Halo Teman #3\", ingat bahwa i akan mulai dari 0, bukan 1.\n",
        "\n",
        "```\n",
        "for i in range(3):\n",
        "  print(\"Halo Teman #\", i+1)\n",
        "```\n",
        "\n",
        "Seperti If, For juga bisa dijalankan dalam For lain. For yang diluar akan menjalankan kodenya setiap kali For didalam berakhir, dan For didalam akan dijalankan lagi saat For diluar berulang.\n",
        "\n",
        "```\n",
        "for i in range(3):\n",
        "  for j in range(2):\n",
        "    print(\"Kolom\", j+1)\n",
        "  print(\"Baris\", i+1)\n",
        "```\n",
        "\n",
        "# While\n",
        "\n",
        "Seperti For, Kode ini juga akan mengulang kode sampai sebuah kondisi tercapai, Kondisi ini sama seperti dalam If, Elif, atau Else. Tetapi, While tidak akan stop dalam sendirinya kecuali Kondisi ini tercapai saat sesuatu berubah dalam kode, seperti sebuah Variable berubah menjadi nilai tertentu. Ingat bahwa kode didalam akan dijalankan sampai statement menjadi False dan kode didalam selesai.\n",
        "\n",
        "\n",
        "Contoh:\n",
        "\n",
        "While akan langsung berhenti setelah Angka 2, karena i ditambah diakhir perulangan, setelah i ditambah menjadi 3, kodenya berakhir dan while melihat bahwa i sudah bukan kurang dari 3, dan berhenti tanpa menulis Angka 3. Setelah itu, print yang diluar while akhirnya berjalan.\n",
        "\n",
        "```\n",
        "i = 0\n",
        "while i < 3:\n",
        "  print(\"Angka\", i)\n",
        "  i++\n",
        "print(\"Angka lebih besar dari dua!! Kepalaku pusing!!)\n",
        "```\n",
        "\n",
        "\n",
        "# Break\n",
        "\n",
        "Jika tidak ingin menjalankan kode didalam sebuah Iterator meskipun kodenya masih belum selesai, bisa kita gunakan kode break, yang akan langsung menghentikan kode didalam While dan lanjut ke kode selanjutnya.\n",
        "\n",
        "Contoh\n",
        "\n",
        "While dalam kode ini menggunakan kondisi \"True\", While seharusnya tidak akan berhenti, tetapi jika ingin membuat while langsung berhenti, bisa menginput sebuah kalimat yang akan menyalakan break yang didalam if, menghentikan kode while.\n",
        "```\n",
        "while True:\n",
        "  input()\n",
        "  if input() == \"I refuse\": break\n",
        "  print(\"eternal\")\n",
        "```\n",
        "\n",
        "# Continue\n",
        "\n",
        "Mungkin kita hanya ingin menghentikan loop ini, bukan seluruh kode For atau While, kita bisa menggunakan kode continue untuk mengulang duluan sebelum kode lainnya berjalan.\n",
        "\n",
        "Contoh:\n",
        "\n",
        "Saya ingin menunjukan nomor dari 0 sampai 10, kecuali 4, saya benci dengan nomor 4, tetapi saya masih suka nomor 5-10, dan tangan saya capek jika menulis loop dua kali, jadinya, hanya untuk i == 4 kita akan menggunakan kode continue.\n",
        "\n",
        "```\n",
        "for i in range(11):\n",
        "  if i == 4:\n",
        "    continue\n",
        "  print(\"Nomor\", i)\n",
        "```\n",
        "# Pass\n",
        "\n",
        "Kode ini tidak melakukan apapun, dan biasa digunakan sebagai placeholder jika sebuah Condition atau Iterator masih belum selesai dibuat tetapi ingin mengerjakan kode lain tanpa error.\n",
        "\n",
        "Contoh\n",
        "\n",
        "Meskipun If belum mempunyai kode apapun, Error yang biasanya ada, Missing Indent, tidak akan muncul karena pass sudah terhitung sebagai kode.\n",
        "\n",
        "```\n",
        "kodeapaya = True\n",
        "if kodeapaya:\n",
        "  pass # koding ini nanti!! jangan lupa!!\n",
        "\n",
        "print(\"Game Over!\")\n",
        "```"
      ],
      "metadata": {
        "id": "YN0z8FbZdlFj"
      }
    },
    {
      "cell_type": "code",
      "source": [
        "#For\n",
        "for i in range(3):\n",
        "  print(\"Halo Teman #\", i+1)\n",
        "\n",
        "#Nested For\n",
        "for i in range(3):\n",
        "  for j in range(2):\n",
        "    print(\"Kolom\", j+1)\n",
        "print(\"Baris\", i+1)\n",
        "\n",
        "#While\n",
        "i = 0\n",
        "while i < 3:\n",
        "  print(\"Angka\", i)\n",
        "  i++\n",
        "print(\"Angka lebih besar dari dua!! Kepalaku pusing!!\")\n",
        "\n",
        "#Pass\n",
        "kodeapaya = True\n",
        "if kodeapaya:\n",
        "  pass # koding ini nanti!! jangan lupa!!\n",
        "print(\"Game Over!\")\n",
        "\n",
        "#Continue\n",
        "for i in range(11):\n",
        "  if i == 4:\n",
        "    continue\n",
        "  print(\"Nomor\", i)\n",
        "\n",
        "#Break\n",
        "while True:\n",
        "  input()\n",
        "  if input() == \"I refuse\": break\n",
        "  print(\"eternal\")"
      ],
      "metadata": {
        "colab": {
          "base_uri": "https://localhost:8080/"
        },
        "id": "_GQiLNICfea_",
        "outputId": "6795f36b-9fbc-4535-ef8d-491770e13da0"
      },
      "execution_count": null,
      "outputs": [
        {
          "output_type": "stream",
          "name": "stdout",
          "text": [
            "its now 0\n",
            "its now 1\n",
            "its now 2\n",
            "its now 4\n"
          ]
        }
      ]
    }
  ]
}