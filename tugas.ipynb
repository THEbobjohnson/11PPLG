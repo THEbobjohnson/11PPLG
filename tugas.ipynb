{
  "cells": [
    {
      "cell_type": "markdown",
      "metadata": {
        "id": "view-in-github",
        "colab_type": "text"
      },
      "source": [
        "<a href=\"https://colab.research.google.com/github/THEbobjohnson/11PPLG/blob/main/tugas.ipynb\" target=\"_parent\"><img src=\"https://colab.research.google.com/assets/colab-badge.svg\" alt=\"Open In Colab\"/></a>"
      ]
    },
    {
      "cell_type": "code",
      "execution_count": null,
      "metadata": {
        "colab": {
          "background_save": true,
          "base_uri": "https://localhost:8080/"
        },
        "id": "YhcAT-1QcLNH",
        "outputId": "1e050339-7b5d-4d1b-eb59-3d2d5cb8872d"
      },
      "outputs": [
        {
          "name": "stdout",
          "output_type": "stream",
          "text": [
            "Selamat datang pada Hub Game!\n",
            "(Padahal hanya ada 1 game haha)\n",
            "Pilihan: \n",
            "    Tebak Angka\n",
            "    TTS\n",
            "   Exit\n",
            "TTS terpilih! Input Exit dimana saja untuk keluar\n",
            "   [ ][ ][ ]\n",
            "   [ ]   [ ]\n",
            "[ ][ ][ ][ ][ ][ ]\n",
            "   [ ]\n",
            "[ ][ ][ ][ ]\n",
            "H1: Bahasa Inggris- bertindak | V1: GI- Spiral..\n",
            "H2: Uler pinter               | V2: Minuman enak\n",
            "H3: Sistem Pencernaan\n",
            "Kasihlah kode baris/kolom yang ingin ditebak!\n",
            "Menebak H1..\n",
            "   [A][C][T]\n",
            "   [ ]   [ ]\n",
            "[ ][ ][ ][ ][ ][ ]\n",
            "   [ ]\n",
            "[ ][ ][ ][ ]\n",
            "H1: Bahasa Inggris- bertindak | V1: GI- Spiral..\n",
            "H2: Uler pinter               | V2: Minuman enak\n",
            "H3: Sistem Pencernaan\n",
            "Kasihlah kode baris/kolom yang ingin ditebak!\n",
            "Menebak V2..\n",
            "   [A][C][T]\n",
            "   [ ]   [ ]\n",
            "[ ][ ][ ][ ][ ][ ]\n",
            "   [ ]\n",
            "[ ][ ][ ][ ]\n",
            "H1: Bahasa Inggris- bertindak | V1: GI- Spiral..\n",
            "H2: Uler pinter               | V2: Minuman enak\n",
            "H3: Sistem Pencernaan\n",
            "Kasihlah kode baris/kolom yang ingin ditebak!\n",
            "Menebak V2..\n",
            "   [A][C][T]\n",
            "   [ ]   [E]\n",
            "[ ][ ][ ][H][ ][ ]\n",
            "   [ ]\n",
            "[ ][ ][ ][ ]\n",
            "H1: Bahasa Inggris- bertindak | V1: GI- Spiral..\n",
            "H2: Uler pinter               | V2: Minuman enak\n",
            "H3: Sistem Pencernaan\n",
            "Kasihlah kode baris/kolom yang ingin ditebak!\n",
            "Menebak H3..\n",
            "   [A][C][T]\n",
            "   [ ]   [E]\n",
            "[ ][ ][ ][H][ ][ ]\n",
            "   [ ]\n",
            "[U][S][U][S]\n",
            "H1: Bahasa Inggris- bertindak | V1: GI- Spiral..\n",
            "H2: Uler pinter               | V2: Minuman enak\n",
            "H3: Sistem Pencernaan\n",
            "Kasihlah kode baris/kolom yang ingin ditebak!\n",
            "Menebak V1..\n",
            "   [A][C][T]\n",
            "   [B]   [E]\n",
            "[ ][Y][ ][H][ ][ ]\n",
            "   [S]\n",
            "[U][S][U][S]\n",
            "H1: Bahasa Inggris- bertindak | V1: GI- Spiral..\n",
            "H2: Uler pinter               | V2: Minuman enak\n",
            "H3: Sistem Pencernaan\n",
            "Kasihlah kode baris/kolom yang ingin ditebak!\n",
            "Kode tidak ada!\n",
            "   [A][C][T]\n",
            "   [B]   [E]\n",
            "[ ][Y][ ][H][ ][ ]\n",
            "   [S]\n",
            "[U][S][U][S]\n",
            "H1: Bahasa Inggris- bertindak | V1: GI- Spiral..\n",
            "H2: Uler pinter               | V2: Minuman enak\n",
            "H3: Sistem Pencernaan\n",
            "Kasihlah kode baris/kolom yang ingin ditebak!\n",
            "Menebak H2..\n",
            "   [A][C][T]\n",
            "   [B]   [E]\n",
            "[P][Y][T][H][O][N]\n",
            "   [S]\n",
            "[U][S][U][S]\n",
            "H1: Bahasa Inggris- bertindak | V1: GI- Spiral..\n",
            "H2: Uler pinter               | V2: Minuman enak\n",
            "H3: Sistem Pencernaan\n",
            "Game telah selesai! input apapun untuk keluar\n"
          ]
        }
      ],
      "source": [
        "#Nomor 6, Tebak angka dan game ditentukan kelompok, yaitu teka teki silang.\n",
        "import random\n",
        "game = \"not exit\"\n",
        "matematika = [\"Tambah\", \"Kurang\", \"Kali\", \"Bagi\"]\n",
        "while game != \"Exit\" and game != \"exit\":\n",
        "  Gamelist = [\"Tebak Angka\", \"TTS\"]\n",
        "  print(\"Selamat datang pada Hub Game!\")\n",
        "  print(\"(Padahal hanya ada 1 game haha)\")\n",
        "  print(\"Pilihan: \")\n",
        "  for i in Gamelist:\n",
        "    print(\"   \", i)\n",
        "  print(\"   Exit\")\n",
        "  game = input()\n",
        "  if game == \"Tebak Angka\" or game == \"tebak angka\" or game == \"tebak\" or game == \"angka\" or game == \"Tebakangka\" or game == \"tebakangka\": #Tebak angka\n",
        "    print(\"Peraturannya sangat Simple!\")\n",
        "    print(\"Saya akan memanggil angka dari -5 sampai 5\")\n",
        "    print(\"Dan kamu angkan menebak angka saya!\")\n",
        "    print(\"Inputkan apapun untuk memulai\")\n",
        "    print(\"Jika menginput Easy mode, saya akan mengasih tau positif atau negatif, atau 0.\")\n",
        "    print(\"Jika menginput Hard mode, saya tidak akan mengganti angka yang saya panggil\")\n",
        "    print(\"Tetapi, saya akan menambah, mengurang, mengkali atau membagi dari -3 sampai 3\")\n",
        "    print(\"Untuk keluar, inputkan exit dimana saja\")\n",
        "    mode = input()\n",
        "    guess = \"not exit\"\n",
        "    angka = random.randint(-5, 5)\n",
        "    if mode == \"Hard\" or mode == \"Hardmode\" or mode == \"Hard mode\" or mode == \"hard\" or mode == \"hardmode\" or mode == \"hard mode\":\n",
        "      print(\"Hard mode telah di input! Tebaklah angka:\")\n",
        "      while guess != \"Exit\" and guess != \"exit\":\n",
        "        guess = input()\n",
        "        #uncomment to debug\n",
        "        #print(angka)\n",
        "        if str.isdigit(guess.lstrip('-.')):\n",
        "          if angka is int(guess):\n",
        "            print(\"Benar! menghitung angka..\")\n",
        "            operator = random.choice(matematika)\n",
        "            if operator == \"Tambah\":\n",
        "              angka+=random.randint(-3, 3)\n",
        "            elif operator == \"Kurang\":\n",
        "              angka-=random.randint(-3, 3)\n",
        "            elif operator == \"Kali\":\n",
        "              angka*=random.randint(-3, 3)\n",
        "            else:\n",
        "              notzero = random.randint(-3, 3)\n",
        "              if notzero == 0:\n",
        "                notzero = 1\n",
        "              angka/=notzero\n",
        "            angka = round(angka)\n",
        "            print(\"Apa angka yang saya pikirkan?\")\n",
        "          else:\n",
        "            print(\"Angka salah, tebak lagi!\")\n",
        "        elif guess == \"Exit\" or guess == \"exit\":\n",
        "          print(\"Keluar dari game..\")\n",
        "        elif guess == \"Cheat\" or guess == \"cheat\":\n",
        "          print(\"Boo! saya tidak angkan mengucapkan angka apapun meskipun ditanya\", angka, \"kali!\")\n",
        "        else:\n",
        "          print(guess, \"bukanlah nomor.\")\n",
        "    elif mode != \"Exit\" or mode != \"exit\":\n",
        "      easy = \"nuh uh\";\n",
        "      if mode == \"Easy\" or mode == \"Easymode\" or mode == \"Easy mode\" or mode == \"easy\" or mode == \"easymode\" or mode == \"easy mode\":\n",
        "        print(\"Easy mode terdeteksi!\")\n",
        "        easy = \"yessir\";\n",
        "      print(\"Game sudah dimulai! Tebaklah angka:\")\n",
        "      while guess != \"Exit\" and guess != \"exit\":\n",
        "        guess = input()\n",
        "        #uncomment to debug\n",
        "        #print(angka)\n",
        "        if str.isdigit(guess.lstrip('-.')):\n",
        "          if angka is int(guess):\n",
        "            print(\"Benar! menghitung angka..\")\n",
        "            angka = random.randint(-5, 5)\n",
        "            print(\"Apa angka yang saya pikirkan?\")\n",
        "            if easy == \"yessir\":\n",
        "              if angka > 0:\n",
        "                print(\"(Positif)\")\n",
        "              elif angka < 0:\n",
        "                print(\"(Negatif)\")\n",
        "              else:\n",
        "                print(\"(Nol.)\")\n",
        "          else:\n",
        "            print(\"Angka salah, tebak lagi!\")\n",
        "        elif guess == \"Exit\" or guess == \"exit\":\n",
        "          print(\"Keluar dari game..\")\n",
        "        elif guess == \"Cheat\" or guess == \"cheat\":\n",
        "          print(\"Boo! saya tidak angkan mengucapkan angka apapun meskipun ditanya\", angka, \"kali!\")\n",
        "        else:\n",
        "          print(guess, \"bukanlah nomor.\")\n",
        "  if game == \"TTS\" or game == \"tts\": #Game ditentukan kelompok\n",
        "    print(\"TTS terpilih! Input Exit dimana saja untuk keluar\")\n",
        "    H1 = \"not act\"\n",
        "    H2 = \"not python\"\n",
        "    H3 = \"not usus\"\n",
        "    V1 = \"not abyss\"\n",
        "    V2 = \"not teh\"\n",
        "    guess = \"not exit\"\n",
        "    #line 1\n",
        "    while guess != \"Exit\" and guess != \"exit\":\n",
        "      if H1 == \"Solved\":\n",
        "        print(\"   [A][C][T]\")\n",
        "      elif V1 == \"Solved\" and V2 == \"Solved\":\n",
        "        print(\"   [A][ ][T]\")\n",
        "      elif V1 == \"Solved\":\n",
        "        print(\"   [A][ ][ ]\")\n",
        "      elif V2 == \"Solved\":\n",
        "        print(\"   [ ][ ][T]\")\n",
        "      else:\n",
        "        print(\"   [ ][ ][ ]\")\n",
        "      #line 2\n",
        "      if V1 == \"Solved\" and V2 == \"Solved\":\n",
        "        print(\"   [B]   [E]\")\n",
        "      elif V1 == \"Solved\":\n",
        "        print(\"   [B]   [ ]\")\n",
        "      elif V2 == \"Solved\":\n",
        "        print(\"   [ ]   [E]\")\n",
        "      else:\n",
        "        print(\"   [ ]   [ ]\")\n",
        "      #line 3\n",
        "      if H2 == \"Solved\":\n",
        "        print(\"[P][Y][T][H][O][N]\")\n",
        "      elif V1 == \"Solved\" and V2 == \"Solved\":\n",
        "        print(\"[ ][Y][ ][H][ ][ ]\")\n",
        "      elif V1 == \"Solved\":\n",
        "        print(\"[ ][Y][ ][ ][ ][ ]\")\n",
        "      elif V2 == \"Solved\":\n",
        "        print(\"[ ][ ][ ][H][ ][ ]\")\n",
        "      else:\n",
        "        print(\"[ ][ ][ ][ ][ ][ ]\")\n",
        "      #line 4\n",
        "      if V1 == \"Solved\":\n",
        "        print(\"   [S]\")\n",
        "      else:\n",
        "        print(\"   [ ]\")\n",
        "      #line5\n",
        "      if H3 == \"Solved\":\n",
        "        print(\"[U][S][U][S]\")\n",
        "      elif V1 == \"Solved\":\n",
        "        print(\"[ ][S][ ][ ]\")\n",
        "      else:\n",
        "          print(\"[ ][ ][ ][ ]\")\n",
        "      #   [A][C][T]\n",
        "      #   [B]   [E]\n",
        "      #[P][Y][T][H][O][N]\n",
        "      #   [S]\n",
        "      #[U][S][U][S]\n",
        "      #(H1) ACT     (V1) ABYSS\n",
        "      #(H2) PYTHON  (V2) TEH\n",
        "      #(H3) USUS\n",
        "      print(\"H1: Bahasa Inggris- bertindak | V1: GI- Spiral..\")\n",
        "      print(\"H2: Uler pinter               | V2: Minuman enak\")\n",
        "      print(\"H3: Sistem Pencernaan\")\n",
        "      if H1 != \"Solved\" or H2 != \"Solved\" or H3 != \"Solved\" or V1 != \"Solved\" or V2 != \"Solved\":\n",
        "        print(\"Kasihlah kode baris/kolom yang ingin ditebak!\")\n",
        "        guess = input()\n",
        "        if guess == \"H1\" or guess == \"h1\":\n",
        "          if H1 != \"Solved\":\n",
        "            print(\"Menebak H1..\")\n",
        "            H1 = input()\n",
        "            if H1 == \"Act\" or H1 == \"act\" or H1 == \"ACT\":\n",
        "              H1 = \"Solved\"\n",
        "          else:\n",
        "            print(\"Sudah ditebak!\")\n",
        "        elif guess == \"H2\" or guess == \"h2\":\n",
        "          if H2 != \"Solved\":\n",
        "            print(\"Menebak H2..\")\n",
        "            H2 = input()\n",
        "            if H2 == \"Python\" or H2 == \"python\" or H2 == \"PYTHON\":\n",
        "              H2 = \"Solved\"\n",
        "          else:\n",
        "            print(\"Sudah ditebak!\")\n",
        "        elif guess == \"H3\" or guess == \"h3\":\n",
        "          if H3 != \"Solved\":\n",
        "            print(\"Menebak H3..\")\n",
        "            H3 = input()\n",
        "            if H3 == \"Usus\" or H3 == \"usus\" or H3 == \"USUS\":\n",
        "              H3 = \"Solved\"\n",
        "          else:\n",
        "            print(\"Sudah ditebak!\")\n",
        "        elif guess == \"V1\" or guess == \"v1\":\n",
        "          if V1 != \"Solved\":\n",
        "            print(\"Menebak V1..\")\n",
        "            V1 = input()\n",
        "            if V1 == \"Abyss\" or V1 == \"abyss\" or V1 == \"ABYSS\":\n",
        "              V1 = \"Solved\"\n",
        "          else:\n",
        "            print(\"Sudah ditebak!\")\n",
        "        elif guess == \"V2\" or guess == \"v2\":\n",
        "          if V2 != \"Solved\":\n",
        "            print(\"Menebak V2..\")\n",
        "            V2 = input()\n",
        "            if V2 == \"Teh\" or V2 == \"teh\" or V2 == \"TEH\":\n",
        "              V2 = \"Solved\"\n",
        "          else:\n",
        "            print(\"Sudah ditebak!\")\n",
        "        elif guess == \"Exit\" or guess == \"exit\":\n",
        "          print(\"Keluar dari program..\")\n",
        "        else:\n",
        "          print(\"Kode tidak ada!\")\n",
        "      else:\n",
        "        print(\"Game telah selesai! input apapun untuk keluar\")\n",
        "        input()\n",
        "        guess = \"Exit\"\n",
        "print(\"Keluar dari program, Bye bye!\")\n",
        "#"
      ]
    },
    {
      "cell_type": "markdown",
      "metadata": {
        "id": "hRxSSU_F1xQt"
      },
      "source": [
        "# Soal Nomor 6\n",
        "\n",
        "Untuk membuat 2 game dalam 1 program, kedua game tersebut di masukan dalam 2 while loops, While loop ini hanya akan keluar jika user mengetik \"Exit\" atau gamenya telah selesai.\n",
        "\n",
        "Cara memilih dari kedua program tersebut adalah memasukan kedua While loop itu dalam While loop ketiga, yan"
      ]
    },
    {
      "cell_type": "code",
      "execution_count": null,
      "metadata": {
        "colab": {
          "base_uri": "https://localhost:8080/"
        },
        "id": "AnhikIfEtP7r",
        "outputId": "6f2afdcb-f559-4cf0-e2a1-d0d6fa84e2e5"
      },
      "outputs": [
        {
          "name": "stdout",
          "output_type": "stream",
          "text": [
            "-9\n",
            "Negatif!\n"
          ]
        }
      ],
      "source": [
        "#Nomor 4\n",
        "angka = input()\n",
        "if str.isdigit(angka.lstrip('-')):\n",
        "  angka = int(angka)\n",
        "  if angka > 0:\n",
        "    print(\"Positif!\")\n",
        "  elif angka < 0:\n",
        "    print(\"Negatif!\")\n",
        "  else:\n",
        "    print(\"nol!\")\n",
        "else:\n",
        "  print(\"hey!! kasih angka!!\")"
      ]
    },
    {
      "cell_type": "markdown",
      "metadata": {
        "id": "yBsmZrrt0oqS"
      },
      "source": [
        "# Soal Nomor 4\n",
        "\n",
        "Kode akan menanyakan untuk menginput sebuah angka, untuk mengecek apakah input adalah angka, menggunakan str.isdigit. Tetapi, str.isdigit akan kira bahwa '-', atau negatif, bukan sebuah angka, jadi kita akan memasukan inputan yang sudah dihapus semua '-' nya.\n",
        "\n",
        "Setelah itu, input akan diubah menjadi integer, dan dicek apakah inputnya sebuah angka positif, negatif, atau nol."
      ]
    },
    {
      "cell_type": "code",
      "execution_count": null,
      "metadata": {
        "colab": {
          "base_uri": "https://localhost:8080/"
        },
        "id": "SCHAJS9Xqpxk",
        "outputId": "16859475-6dcb-48ed-90da-2849fffd0a29"
      },
      "outputs": [
        {
          "name": "stdout",
          "output_type": "stream",
          "text": [
            "halo\n",
            "hi~!\n"
          ]
        }
      ],
      "source": [
        "#Nomor 2, 1 Kondisi\n",
        "halo = input()\n",
        "if halo == \"halo\":\n",
        "  print(\"hi~!\")"
      ]
    },
    {
      "cell_type": "markdown",
      "metadata": {
        "id": "Xy4-qTZx0brF"
      },
      "source": [
        "# Soal Nomor 2\n",
        "\n",
        "Jika kamu menyapa si kode ini, akan disapa balik! yey"
      ]
    },
    {
      "cell_type": "code",
      "execution_count": null,
      "metadata": {
        "colab": {
          "base_uri": "https://localhost:8080/"
        },
        "id": "OZKjBoj9nr_R",
        "outputId": "0cdbf77a-e66c-4b3b-9008-38d711a9f2ed"
      },
      "outputs": [
        {
          "name": "stdout",
          "output_type": "stream",
          "text": [
            "nilai X\n",
            "3\n",
            "Case sensitif! Input: ['Tambah', 'Kurang', 'Kali', 'Bagi', 'Modulus', 'Eksponen', 'Floordiv']\n",
            "Tambah\n",
            "nilai Y\n",
            "5\n",
            "3 Di - Tambah 5 Sama dengan 8\n",
            "3 Lebih Kecil Dari 8 .  5 Lebih Kecil Dari 8\n"
          ]
        }
      ],
      "source": [
        "#Nomor 1\n",
        "Matematika = [\"Tambah\", \"Kurang\", \"Kali\", \"Bagi\", \"Modulus\", \"Eksponen\", \"Floordiv\"]\n",
        "Xisdigit = \"nuh uh\"\n",
        "Yisdigit = \"nosir\"\n",
        "while Xisdigit == \"nuh uh\" or Yisdigit == \"nosir\": #Logika\n",
        "  print(\"nilai X\")\n",
        "  X = input()\n",
        "  if str.isdigit(X.lstrip('-.')):\n",
        "    X = int(X)\n",
        "    Xisdigit = \"Yessir\"\n",
        "  else:\n",
        "    print(\"Bukan angka!\")\n",
        "    Xisdigit = \"nuh uh\"\n",
        "  print(\"Case sensitif! Input:\", Matematika)\n",
        "  Operator = input()\n",
        "  if Operator not in Matematika: #Keanggotaan\n",
        "    print(\"Error! Default Tambah\")\n",
        "    Operator = \"Tambah\"\n",
        "  print(\"nilai Y\")\n",
        "  Y = input()\n",
        "  if str.isdigit(Y.lstrip('-.')):\n",
        "    Y = int(Y)\n",
        "    Yisdigit = \"Uh-huh\"\n",
        "  else:\n",
        "    print(\"Bukan angka!\")\n",
        "    Y = \"nosir\"\n",
        "\n",
        "if Operator == \"Tambah\":\n",
        "  Answer = X+Y #Aritmatika\n",
        "elif Operator == \"Kurang\":\n",
        "  Answer = X-Y\n",
        "elif Operator == \"Kali\":\n",
        "  Answer = X*Y\n",
        "elif Operator == \"Bagi\":\n",
        "  Answer = X/Y\n",
        "elif Operator == \"Eksponen\":\n",
        "  Answer = X**Y\n",
        "elif Operator == \"Modulus\":\n",
        "  Answer = X%Y\n",
        "elif Operator == \"Floordiv\":\n",
        "  Answer = X//Y\n",
        "else:\n",
        "  print(\"Error? huh? Jawabannya 1 aja deh\")\n",
        "  Answer = \"1\"\n",
        "print(X, \"Di -\", Operator, Y, \"Sama dengan\", Answer)\n",
        "Both = \"Nuh uh\"\n",
        "Xlebih = \"Error\"\n",
        "Ylebih = \"Error\"\n",
        "if X > Answer: #Perbandingan\n",
        "  Xlebih = \"Lebih Besar Dari\"\n",
        "elif X < Answer:\n",
        "  Xlebih = \"Lebih Kecil Dari\"\n",
        "elif X is Answer: #Identitas\n",
        "  Xlebih = \"Sama Dengan\"\n",
        "if Y > Answer:\n",
        "  Ylebih = \"Lebih Besar Dari\"\n",
        "elif Y < Answer:\n",
        "  Ylebih = \"Lebih Kecil Dari\"\n",
        "elif Y is Answer:\n",
        "  Ylebih = \"Sama Dengan\"\n",
        "print(X, Xlebih, Answer, \". \", Y, Ylebih, Answer)\n",
        "type(Answer)"
      ]
    },
    {
      "cell_type": "markdown",
      "metadata": {
        "id": "TJx2TIkC5KQk"
      },
      "source": [
        "# Soal Nomor 1\n",
        "\n",
        "Kalkulator yang akan melakukan x [Operasi] y, dan menanyakan nomor x, y, dan Operasinya.\n",
        "\n",
        "Jika Operasi, jika x atau y bukan integer, atau Operasinya salah, akan ditanyakan untuk diulang.\n",
        "\n",
        "Kalkulator akan menghitung x [] y. dan menghasilkan jawaban.\n",
        "\n",
        "Jawaban kemudian dibanding dengan nilai X dan Y."
      ]
    },
    {
      "cell_type": "code",
      "execution_count": null,
      "metadata": {
        "colab": {
          "base_uri": "https://localhost:8080/"
        },
        "id": "62_PRoxS-ZXr",
        "outputId": "dc34ae4f-b7f0-4992-9e50-94afc2c1e9ed"
      },
      "outputs": [
        {
          "name": "stdout",
          "output_type": "stream",
          "text": [
            "1/10 broke the cycle!\n",
            "6 Tries. 2 1/10s 2 1/20s 2 1/50s 0 1/5s 0 Coin flips\n"
          ]
        }
      ],
      "source": [
        "#Nomor 3\n",
        "Test = \"Bukan Selesai\"\n",
        "Try = 0\n",
        "Oneinten = 0\n",
        "Oneintwenty = 0\n",
        "Oneinfifty = 0\n",
        "Oneinfive = 0\n",
        "Fiftyfifty = 0\n",
        "chance = 0\n",
        "while chance != 1:\n",
        "  Try += 1\n",
        "  angka = random.randint(1, 10)\n",
        "  angka2 = random.randint(1, 10)\n",
        "  angka3 = random.randint(1, 10)\n",
        "  if angka > angka2:\n",
        "    Mode = \"1/10\"\n",
        "    Oneinten += 1\n",
        "    chance = random.randint(1,10)\n",
        "  elif angka2 > angka3: #Kondisi 2?\n",
        "    Mode = \"1/20\"\n",
        "    Oneintwenty += 1\n",
        "    chance = random.randint(1,20)\n",
        "  elif angka3 > angka: #Kondisi 2+?\n",
        "    Mode = \"1/50\"\n",
        "    Oneinfifty += 1\n",
        "    chance = random.randint(1,50)\n",
        "  else:\n",
        "    if angka == 10 and angka2 == 10 and angka3 == 10: #nested if, kondisis 2+?\n",
        "      Mode = \"1/2\"\n",
        "      Fiftyfifty += 1\n",
        "      chance = random.randint(1,2)\n",
        "    Mode = \"1/5\"\n",
        "    Oneinfive += 1\n",
        "    chance = random.randint(1,5)\n",
        "print(Mode, \"broke the cycle!\")\n",
        "print(Try, \"Tries.\", Oneinten, \"1/10s\", Oneintwenty, \"1/20s\", Oneinfifty, \"1/50s\", Oneinfive, \"1/5s\", Fiftyfifty, \"Coin flips\")"
      ]
    },
    {
      "cell_type": "markdown",
      "metadata": {
        "id": "28f3dKNt3hf7"
      },
      "source": [
        "# Soal Nomor 3.\n",
        "\n",
        "Memilih dari melempar dadu 5, 10, 20, atau 50 sisi, atau sebuah koin. Dadu dengan 5 sisi lebih langka dari dadu lain, dan koin lebih langka dari Dadu 5 sisi. Jika kena angka 1, Kode selesai dan ditulis betapa banyak dadu dilempar dan dadu yang terakhir dilempar"
      ]
    },
    {
      "cell_type": "code",
      "execution_count": null,
      "metadata": {
        "id": "EWsuWWJ22S-Z"
      },
      "outputs": [],
      "source": [
        "print(\"Untuk keluar, inputlah Exit\")\n",
        "i = 0\n",
        "a = 0\n",
        "while input() != \"Exit\":\n",
        "  i++\n",
        "  print(\"Perulangan ke\")\n",
        "  print(\"Tambahkan angkanya!\")\n",
        "  b = input()\n",
        "  if str.isdigit(b.lstrip(-)):\n",
        "    a += int(b)\n",
        "  print(a)\n",
        "print(\"Sudah keluar.\")"
      ]
    },
    {
      "cell_type": "markdown",
      "metadata": {
        "id": "S8t0J0JE7hrT"
      },
      "source": [
        "# Soal Nomor 5\n",
        "\n",
        "Ini adalah programa untuk menambah sebuah angka berkali kali sampai si pengguna sudah bosan, Akan dikasih tau cara keluarnya, yaitu adalah dengan menginput exit."
      ]
    },
    {
      "cell_type": "code",
      "source": [
        "import random\n",
        "from IPython.display import clear_output\n",
        "print(\"youkoso :33333333\")\n",
        "print(\"black jack leesgooo\")\n",
        "response = \"lesgo\"\n",
        "exit = [\"Exit\", \"EXIT\", \"exit\"]\n",
        "stand = [\"Stand\", \"stand\", \"STAND\"]\n",
        "fulldeck = [\"HAce\", \"SAce\", \"DAce\", \"CAce\", \"H2\", \"H3\", \"H4\", \"H5\", \"H6\", \"H7\", \"H8\", \"H9\", \"H10\", \"HJack\", \"HQueen\", \"HKing\", \"S2\", \"S3\", \"S4\", \"S5\", \"S6\", \"S7\", \"S8\", \"S9\", \"S10\", \"SJack\", \"SQueen\", \"SKing\", \"D2\", \"D3\", \"D4\", \"D5\", \"D6\", \"D7\", \"D8\", \"D9\", \"D10\", \"DJack\", \"DQueen\", \"DKing\", \"C2\", \"C3\", \"C4\", \"C5\", \"C6\", \"C7\", \"C8\", \"C9\", \"C10\", \"CJack\", \"CQueen\", \"CKing\",]\n",
        "deck = [\"Nothing\"]\n",
        "deck.extend(fulldeck)\n",
        "ontable = [\"Nothing\"]\n",
        "game = 1\n",
        "Yourscore = 0\n",
        "Housescore = 0\n",
        "Housestand = False\n",
        "value = 0\n",
        "def displayscore():\n",
        "  global Housescore\n",
        "  global Yourscore\n",
        "  print(\"You:\", Yourscore)\n",
        "  print(\"House:\", Housescore)\n",
        "\n",
        "def checkscore():\n",
        "  global Housescore\n",
        "  global Yourscore\n",
        "  if Housescore > 22:\n",
        "    displayscore()\n",
        "    print(\"Bust!\")\n",
        "    gameend = True\n",
        "  if Yourscore > 22:\n",
        "    displayscore()\n",
        "    print(\"Bust.\")\n",
        "    gameend = True\n",
        "def drawcard(Target):\n",
        "  global deck\n",
        "  global ontable\n",
        "  global Yourscore\n",
        "  global Housescore\n",
        "  draw = random.choice(deck)\n",
        "  print(Target, \":\", draw)\n",
        "  deck.remove(draw)\n",
        "  ontable.append(draw)\n",
        "  draw = draw.lstrip(\"HSDC\")\n",
        "  if str.isdigit(draw):\n",
        "    value = int(draw)\n",
        "  elif draw == \"Ace\":\n",
        "    if Yourscore > 10:\n",
        "      value = 1\n",
        "    else:\n",
        "      value = 11\n",
        "  else:\n",
        "    value = 10\n",
        "  if Target == \"Player\":\n",
        "    Yourscore += value\n",
        "    checkscore()\n",
        "  if Target == \"House\":\n",
        "    Housescore += value\n",
        "    checkscore()\n",
        "  if len(deck) == 0:\n",
        "    deck.extend(fulldeck)\n",
        "    deck.remove(ontable)\n",
        "    print(\"Deck habis! Shuffle!\")\n",
        "win = 0\n",
        "while response not in exit:\n",
        "  print(\"Start! Game #\", game)\n",
        "  gameend = False\n",
        "  while response not in exit and Yourscore < 22 and Housescore < 22 and response not in stand and not Housestand:\n",
        "    print(\"You:\", Yourscore)\n",
        "    print(\"House:\", Housescore)\n",
        "    print(\"Input any to hit, input stand to stop.\")\n",
        "    response = input()\n",
        "    if response in stand:\n",
        "      gameend = True\n",
        "      print(\"[Stand]\")\n",
        "      while Housescore < Yourscore:\n",
        "        drawcard(\"House\")\n",
        "      displayscore()\n",
        "    elif response not in exit:\n",
        "      clear_output()\n",
        "      print(\"[Hit]\")\n",
        "      drawcard(\"Player\")\n",
        "      drawcard(\"House\")\n",
        "      displayscore()\n",
        "    if Housescore > 16 and not gameend:\n",
        "      gameend = True\n",
        "      print(\"Rumah:\", Housescore)\n",
        "      print(\"Dealer stand.\")\n",
        "      Housestand = True\n",
        "      while Yourscore < Housescore:\n",
        "        drawcard(\"Player\")\n",
        "      displayscore()\n",
        "  if Yourscore < 22 and (Yourscore >= Housescore or Housescore > 21) and response not in exit:\n",
        "    print(\"Kamu Menang!!\")\n",
        "    win+=1\n",
        "    print(\"Wins:\", win)\n",
        "  elif response not in exit:\n",
        "    print(\"Kalah..\")\n",
        "  ontable.clear()\n",
        "  Yourscore = 0\n",
        "  Housescore = 0\n",
        "  Housestand = False\n",
        "  response = input()\n",
        "  clear_output()\n",
        "  game+=1\n",
        "#"
      ],
      "metadata": {
        "id": "1mcvXDPRM6MN",
        "colab": {
          "base_uri": "https://localhost:8080/",
          "height": 529
        },
        "outputId": "33915b26-a76a-492a-9886-69581f014d8f"
      },
      "execution_count": 30,
      "outputs": [
        {
          "output_type": "stream",
          "name": "stdout",
          "text": [
            "[Hit]\n",
            "Player : D9\n",
            "House : S8\n",
            "You: 9\n",
            "House: 8\n",
            "You: 9\n",
            "House: 8\n",
            "Input any to hit, input stand to stop.\n"
          ]
        },
        {
          "output_type": "error",
          "ename": "KeyboardInterrupt",
          "evalue": "ignored",
          "traceback": [
            "\u001b[0;31m---------------------------------------------------------------------------\u001b[0m",
            "\u001b[0;31mKeyboardInterrupt\u001b[0m                         Traceback (most recent call last)",
            "\u001b[0;32m<ipython-input-30-1f627125bfa6>\u001b[0m in \u001b[0;36m<cell line: 64>\u001b[0;34m()\u001b[0m\n\u001b[1;32m     69\u001b[0m     \u001b[0mprint\u001b[0m\u001b[0;34m(\u001b[0m\u001b[0;34m\"House:\"\u001b[0m\u001b[0;34m,\u001b[0m \u001b[0mHousescore\u001b[0m\u001b[0;34m)\u001b[0m\u001b[0;34m\u001b[0m\u001b[0;34m\u001b[0m\u001b[0m\n\u001b[1;32m     70\u001b[0m     \u001b[0mprint\u001b[0m\u001b[0;34m(\u001b[0m\u001b[0;34m\"Input any to hit, input stand to stop.\"\u001b[0m\u001b[0;34m)\u001b[0m\u001b[0;34m\u001b[0m\u001b[0;34m\u001b[0m\u001b[0m\n\u001b[0;32m---> 71\u001b[0;31m     \u001b[0mresponse\u001b[0m \u001b[0;34m=\u001b[0m \u001b[0minput\u001b[0m\u001b[0;34m(\u001b[0m\u001b[0;34m)\u001b[0m\u001b[0;34m\u001b[0m\u001b[0;34m\u001b[0m\u001b[0m\n\u001b[0m\u001b[1;32m     72\u001b[0m     \u001b[0;32mif\u001b[0m \u001b[0mresponse\u001b[0m \u001b[0;32min\u001b[0m \u001b[0mstand\u001b[0m\u001b[0;34m:\u001b[0m\u001b[0;34m\u001b[0m\u001b[0;34m\u001b[0m\u001b[0m\n\u001b[1;32m     73\u001b[0m       \u001b[0mgameend\u001b[0m \u001b[0;34m=\u001b[0m \u001b[0;32mTrue\u001b[0m\u001b[0;34m\u001b[0m\u001b[0;34m\u001b[0m\u001b[0m\n",
            "\u001b[0;32m/usr/local/lib/python3.10/dist-packages/ipykernel/kernelbase.py\u001b[0m in \u001b[0;36mraw_input\u001b[0;34m(self, prompt)\u001b[0m\n\u001b[1;32m    849\u001b[0m                 \u001b[0;34m\"raw_input was called, but this frontend does not support input requests.\"\u001b[0m\u001b[0;34m\u001b[0m\u001b[0;34m\u001b[0m\u001b[0m\n\u001b[1;32m    850\u001b[0m             )\n\u001b[0;32m--> 851\u001b[0;31m         return self._input_request(str(prompt),\n\u001b[0m\u001b[1;32m    852\u001b[0m             \u001b[0mself\u001b[0m\u001b[0;34m.\u001b[0m\u001b[0m_parent_ident\u001b[0m\u001b[0;34m,\u001b[0m\u001b[0;34m\u001b[0m\u001b[0;34m\u001b[0m\u001b[0m\n\u001b[1;32m    853\u001b[0m             \u001b[0mself\u001b[0m\u001b[0;34m.\u001b[0m\u001b[0m_parent_header\u001b[0m\u001b[0;34m,\u001b[0m\u001b[0;34m\u001b[0m\u001b[0;34m\u001b[0m\u001b[0m\n",
            "\u001b[0;32m/usr/local/lib/python3.10/dist-packages/ipykernel/kernelbase.py\u001b[0m in \u001b[0;36m_input_request\u001b[0;34m(self, prompt, ident, parent, password)\u001b[0m\n\u001b[1;32m    893\u001b[0m             \u001b[0;32mexcept\u001b[0m \u001b[0mKeyboardInterrupt\u001b[0m\u001b[0;34m:\u001b[0m\u001b[0;34m\u001b[0m\u001b[0;34m\u001b[0m\u001b[0m\n\u001b[1;32m    894\u001b[0m                 \u001b[0;31m# re-raise KeyboardInterrupt, to truncate traceback\u001b[0m\u001b[0;34m\u001b[0m\u001b[0;34m\u001b[0m\u001b[0m\n\u001b[0;32m--> 895\u001b[0;31m                 \u001b[0;32mraise\u001b[0m \u001b[0mKeyboardInterrupt\u001b[0m\u001b[0;34m(\u001b[0m\u001b[0;34m\"Interrupted by user\"\u001b[0m\u001b[0;34m)\u001b[0m \u001b[0;32mfrom\u001b[0m \u001b[0;32mNone\u001b[0m\u001b[0;34m\u001b[0m\u001b[0;34m\u001b[0m\u001b[0m\n\u001b[0m\u001b[1;32m    896\u001b[0m             \u001b[0;32mexcept\u001b[0m \u001b[0mException\u001b[0m \u001b[0;32mas\u001b[0m \u001b[0me\u001b[0m\u001b[0;34m:\u001b[0m\u001b[0;34m\u001b[0m\u001b[0;34m\u001b[0m\u001b[0m\n\u001b[1;32m    897\u001b[0m                 \u001b[0mself\u001b[0m\u001b[0;34m.\u001b[0m\u001b[0mlog\u001b[0m\u001b[0;34m.\u001b[0m\u001b[0mwarning\u001b[0m\u001b[0;34m(\u001b[0m\u001b[0;34m\"Invalid Message:\"\u001b[0m\u001b[0;34m,\u001b[0m \u001b[0mexc_info\u001b[0m\u001b[0;34m=\u001b[0m\u001b[0;32mTrue\u001b[0m\u001b[0;34m)\u001b[0m\u001b[0;34m\u001b[0m\u001b[0;34m\u001b[0m\u001b[0m\n",
            "\u001b[0;31mKeyboardInterrupt\u001b[0m: Interrupted by user"
          ]
        }
      ]
    },
    {
      "cell_type": "markdown",
      "source": [
        "boredproject: blackjack\n",
        "\n",
        "phases:\n",
        "\n",
        "1.random number\n",
        "\n",
        "2.actual deck w arrays.\n",
        "\n"
      ],
      "metadata": {
        "id": "LyLOTm5IM9W6"
      }
    },
    {
      "cell_type": "code",
      "source": [
        "import random\n",
        "from IPython.display import clear_output\n",
        "\n",
        "answer = \"notexit\"\n",
        "exit = [\"exit\", \"Exit\", \"EXIT\"]\n",
        "kertas = [\"kertas\", \"Kertas\", \"KERTAS\", \"k\", \"K\"]\n",
        "gunting = [\"gunting\", \"Gunting\", \"GUNTING\", \"g\", \"G\"]\n",
        "batu = [\"batu\", \"Batu\", \"BATU\", \"b\", \"B\"]\n",
        "rps = [\"Kertas\", \"Batu\", \"Gunting\"]\n",
        "\n",
        "win = 0\n",
        "lose = 0\n",
        "draw = 0\n",
        "\n",
        "# 1 = batu, 2 = gunting, 3 = kertaas\n",
        "while answer not in exit:\n",
        "  print(\"Menang:\", win, \"Kalah:\", lose, \"Seri:\", draw)\n",
        "  computer = random.choice(rps)\n",
        "  print(\"Kertas, gunting, batu!\")\n",
        "  answer = input()\n",
        "  if answer not in exit:\n",
        "    print(\"(computer)\", computer)\n",
        "    if computer == \"Batu\":\n",
        "      if answer in kertas:\n",
        "        print(\"Menang!\")\n",
        "        win+=1\n",
        "      elif answer in gunting:\n",
        "        print(\"Kalah!\")\n",
        "        lose+=1\n",
        "      elif answer in batu:\n",
        "        print(\"Seri!\")\n",
        "        draw+=1\n",
        "      else:\n",
        "        print(\"??\")\n",
        "    if computer == \"Gunting\":\n",
        "      if answer in kertas:\n",
        "        print(\"Kalah!\")\n",
        "        lose+=1\n",
        "      elif answer in gunting:\n",
        "        print(\"Seri!\")\n",
        "        draw+=1\n",
        "      elif answer in batu:\n",
        "        print(\"Menang!\")\n",
        "        win+=1\n",
        "      else:\n",
        "        print(\"??\")\n",
        "    if computer == \"Kertas\":\n",
        "      if answer in kertas:\n",
        "        print(\"Seri!\")\n",
        "        draw+=1\n",
        "      elif answer in gunting:\n",
        "        print(\"Menang!\")\n",
        "        win+=1\n",
        "      elif answer in batu:\n",
        "        print(\"Kalah!\")\n",
        "        lose+=1\n",
        "      else:\n",
        "        print(\"??\")\n",
        "    print(\"Lagi?\")\n",
        "    answer = input()\n",
        "  clear_output()\n",
        "print(\"Menang:\", win, \"Kalah:\", lose, \"Seri:\", draw)\n",
        "print(\"Game selesai!\")\n",
        "#s"
      ],
      "metadata": {
        "id": "rxnriNtzQjKM",
        "colab": {
          "base_uri": "https://localhost:8080/"
        },
        "outputId": "41c9b4a2-1ffc-4157-a976-ac9b7fa86bea"
      },
      "execution_count": 16,
      "outputs": [
        {
          "output_type": "stream",
          "name": "stdout",
          "text": [
            "Menang: 0 Kalah: 1 Seri: 0\n",
            "Game selesai!\n"
          ]
        }
      ]
    },
    {
      "cell_type": "markdown",
      "source": [
        "# Projek Kelompok\n",
        "\n",
        "Kertas gunting batu!\n",
        "\n",
        "Pertama, mendefinisikan kertas, batu, gunting, dan exit sebagai array agar tidak case sensitif, dan juga semua variabel yang akan dipakai agar tidak error.\n",
        "\n",
        "Habis itu, dimasukan kedalam while agar bisa mengulang game seberapa kali, komputer akan menggunakan import random dan random choice untuk memilih dari kertas, batu, dan gunting, dan akan disuruh untuk menginput salah satu jawaban.\n",
        "\n",
        "Terakhir, menggunakan nested if dan operator keanggotaan, bisa dicari apa yang diinput player dan jika player seharusnya menang, kalah, atau seri, dan setelah selesai, di ulang lagi\n",
        "\n"
      ],
      "metadata": {
        "id": "M_kk3JW4TWCC"
      }
    },
    {
      "cell_type": "code",
      "source": [
        "testing = [\"Remove this\", \"Not this\", \"Nor this\", \"This stays\", \"I hate this one\", \"This one good\"]\n",
        "testing.remove(\"Remove this\")\n",
        "testing.remove(\"I hate this one\")\n",
        "print(testing)"
      ],
      "metadata": {
        "colab": {
          "base_uri": "https://localhost:8080/"
        },
        "id": "qByAp2k0c9-B",
        "outputId": "78b59fdf-4c08-4819-bd38-ed08c938c1ba"
      },
      "execution_count": null,
      "outputs": [
        {
          "output_type": "stream",
          "name": "stdout",
          "text": [
            "['Not this', 'Nor this', 'This stays', 'This one good']\n"
          ]
        }
      ]
    }
  ],
  "metadata": {
    "colab": {
      "provenance": [],
      "authorship_tag": "ABX9TyNzrU1iPrAUfI+hMfG4W17A",
      "include_colab_link": true
    },
    "kernelspec": {
      "display_name": "Python 3",
      "name": "python3"
    },
    "language_info": {
      "name": "python"
    }
  },
  "nbformat": 4,
  "nbformat_minor": 0
}