{
  "nbformat": 4,
  "nbformat_minor": 0,
  "metadata": {
    "colab": {
      "provenance": [],
      "authorship_tag": "ABX9TyPnZUmEEMZayJ5YeGpxS1Zo",
      "include_colab_link": true
    },
    "kernelspec": {
      "name": "python3",
      "display_name": "Python 3"
    },
    "language_info": {
      "name": "python"
    }
  },
  "cells": [
    {
      "cell_type": "markdown",
      "metadata": {
        "id": "view-in-github",
        "colab_type": "text"
      },
      "source": [
        "<a href=\"https://colab.research.google.com/github/THEbobjohnson/11PPLG/blob/main/Operator.ipynb\" target=\"_parent\"><img src=\"https://colab.research.google.com/assets/colab-badge.svg\" alt=\"Open In Colab\"/></a>"
      ]
    },
    {
      "cell_type": "markdown",
      "source": [
        "# Operator\n",
        "Simbol Simbol untuk melakukan Operasi Aritmatika, Pembanding, dan Logika\n",
        "\n",
        "# Aritmatika\n",
        "\n",
        "Operator Aritmatika menggunakan matematika untuk mengubah sebuah nilai seperti penambahan, pengurangan, perkalian, eksponensial, modulus (Sisa), pembagian, dan Floor Division (Bulat Bawah).\n",
        "\n",
        "Kita akan menggunakan dua variable A dan B untuk melakukan contoh aritmatika\n",
        "\n",
        "\n",
        "\n",
        "```\n",
        "a = 312\n",
        "b = 6\n",
        "\n",
        "print(a + b) # 318\n",
        "\n",
        "print(a - b) # 306\n",
        "\n",
        "print(a * b) # 1872\n",
        "\n",
        "print(a / b) # 52\n",
        "\n",
        "print(a ** b) # 922417564483584\n",
        "\n",
        "print(a % (b+1)) # 4\n",
        "\n",
        "print(a // (b+1)) # 44\n",
        "```\n",
        "\n",
        "# Pembanding\n",
        "Operator Pembanding akan melihat dua nilai dan mengeluarkan nilai Bool True atau False, Operator meliputi Sama Dengan, Lebih Besar dari, atau Kurang Dari.\n",
        "\n",
        "\n",
        "\n",
        "```\n",
        "if 10 > 12: # Lebih\n",
        "  print(yes) # akan diprint!\n",
        "\n",
        "if 10 == 10: # Sama Dengan\n",
        "  print(yes) # tidak akan diprint..\n",
        "\n",
        "if 10 < 0.1*(10**3): # Kurang\n",
        "  print(yes) # akan diprint!\n",
        "\n",
        "if \"Hola\" >= \"Hola\": # Lebih, atau sama dengan.\n",
        "  print(yes) # akan diprint!\n",
        "\n",
        "if 21 <= 20: #Kurang, atau sama dengan.\n",
        "  print(yes) # tidak akan diprint..\n",
        "```\n",
        "\n",
        "# Logika\n",
        "Operator Logika bisa digabung dengan Operator Perbandingan untuk menambah lebih banyak perbandingan, atau untuk mengubah arti Operator. seperti \"Bukan\", \"Dan\", dan \"Atau\".\n",
        "\n",
        "\n",
        "\n",
        "```\n",
        "a = input()\n",
        "b = input()\n",
        "if not(a == b): # Jika input a tidak sama dengan input b\n",
        "  if a == \"Username\" and b == \"Password\": # Jika input a adalah \"Username\" DAN input b adalah \"Password\"\n",
        "    print(\"Logged In\")\n",
        "  else if a == \"Username\" or b == \"Password\": # Jika input a adalah \"Username\" ATAU input b adalah \"Password\"\n",
        "    print(\"Either Username or Password is incorrect\")\n",
        "else:\n",
        "  print(\"Username and Password can't be the same!\")\n",
        "```\n",
        "\n"
      ],
      "metadata": {
        "id": "-UgrD-eJKPXb"
      }
    },
    {
      "cell_type": "code",
      "source": [
        "# Aritmatika\n",
        "a = 312\n",
        "b = 6\n",
        "\n",
        "print(a + b) # 318\n",
        "\n",
        "print(a - b) # 306\n",
        "\n",
        "print(a * b) # 1872\n",
        "\n",
        "print(a / b) # 52\n",
        "\n",
        "print(a ** b) # 922417564483584\n",
        "\n",
        "print(a % (b+1)) # 4\n",
        "\n",
        "print(a // (b+1)) # 44"
      ],
      "metadata": {
        "colab": {
          "base_uri": "https://localhost:8080/"
        },
        "id": "NpbAkZR6K_8M",
        "outputId": "6c84ae95-8705-412b-8f43-dfc4ac5880ca"
      },
      "execution_count": 4,
      "outputs": [
        {
          "output_type": "execute_result",
          "data": {
            "text/plain": [
              "44"
            ]
          },
          "metadata": {},
          "execution_count": 4
        }
      ]
    },
    {
      "cell_type": "code",
      "source": [
        "# Perbandingan\n",
        "x = [10 > 10, \"Password\" == \"Password\", 16 < 5**2, 20-1-1-1-1-1-1-1-1-1-1-1 >= 10, \"Hmm?\" <= \"Hmm?\"]\n",
        "for i in x:\n",
        "  if i:\n",
        "    print(\"Yaha\")\n",
        "  else:\n",
        "    print(\"Nuh uh\")"
      ],
      "metadata": {
        "colab": {
          "base_uri": "https://localhost:8080/"
        },
        "id": "8NevjhN_N7i-",
        "outputId": "56da83d5-fe64-41e2-a48c-1d36bffb2e6f"
      },
      "execution_count": 10,
      "outputs": [
        {
          "output_type": "stream",
          "name": "stdout",
          "text": [
            "Nuh uh\n",
            "Yaha\n",
            "Yaha\n",
            "Nuh uh\n",
            "Yaha\n"
          ]
        }
      ]
    },
    {
      "cell_type": "code",
      "source": [
        "#Logika\n",
        "\n",
        "a = [12, 38, 51, 92, 70]\n",
        "c = \"cheat\"\n",
        "d = \"cheat2\"\n",
        "print(\"Tebak nomor!\")\n",
        "for i in a:\n",
        "  b = input()\n",
        "  if not(b.isdigit()): # Jika tebakan bukanlah angka\n",
        "    print(\"Boo!! Jangan input string!!\")\n",
        "    b = -99\n",
        "  b = int(b)\n",
        "  if d == c and b == i:\n",
        "    print(\"keren!!\")\n",
        "  elif b == i or b == c or d == i: # Tebakan adalah nomor ini atau nomor sebelum atau tebakan sebelum adalah nomor ini\n",
        "    print(\"menang!\")\n",
        "  else:\n",
        "    print(\"aww.\")\n",
        "  c = i # Nomor sebelum\n",
        "  d = b # Tebakan sebelum"
      ],
      "metadata": {
        "colab": {
          "base_uri": "https://localhost:8080/"
        },
        "id": "bTp_7qLmVYlh",
        "outputId": "689947a7-82b1-4ce3-c867-92638523c98e"
      },
      "execution_count": 16,
      "outputs": [
        {
          "output_type": "stream",
          "name": "stdout",
          "text": [
            "Tebak nomor!\n",
            "12\n",
            "menang!\n",
            "38\n",
            "keren!!\n",
            "92\n",
            "aww.\n",
            "0\n",
            "menang!\n",
            "70\n",
            "menang!\n"
          ]
        }
      ]
    }
  ]
}